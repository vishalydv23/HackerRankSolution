{
 "cells": [
  {
   "cell_type": "code",
   "execution_count": 1,
   "id": "d5576668",
   "metadata": {},
   "outputs": [],
   "source": [
    "import pandas as pd\n",
    "import numpy as np\n",
    "from sklearn.feature_extraction.text import CountVectorizer\n",
    "from sklearn.feature_extraction.text import TfidfTransformer\n",
    "from sklearn.naive_bayes import MultinomialNB\n",
    "from sklearn.linear_model import SGDClassifier\n",
    "from sklearn.pipeline import Pipeline\n",
    "from sklearn.model_selection import GridSearchCV"
   ]
  },
  {
   "cell_type": "code",
   "execution_count": 2,
   "id": "d90ce89a",
   "metadata": {},
   "outputs": [],
   "source": [
    "df = pd.read_csv('trainingdata.txt')\n",
    "df.columns = ['text']\n",
    "df['label'] = df['text'].apply(lambda x: x.split(' ')[0])\n",
    "df['text'] = df['text'].apply(lambda x: x.split(' ', 1)[1].rsplit(' ', 2)[0])"
   ]
  },
  {
   "cell_type": "code",
   "execution_count": 7,
   "id": "a3bed539",
   "metadata": {},
   "outputs": [
    {
     "data": {
      "text/plain": [
       "(5485, 19955)"
      ]
     },
     "execution_count": 7,
     "metadata": {},
     "output_type": "execute_result"
    }
   ],
   "source": [
    "count_vect = CountVectorizer()\n",
    "X_train_counts = count_vect.fit_transform(df['text'])\n",
    "X_train_counts.shape"
   ]
  },
  {
   "cell_type": "code",
   "execution_count": 9,
   "id": "58560340",
   "metadata": {},
   "outputs": [
    {
     "data": {
      "text/plain": [
       "(5485, 19955)"
      ]
     },
     "execution_count": 9,
     "metadata": {},
     "output_type": "execute_result"
    }
   ],
   "source": [
    "tf_transformer = TfidfTransformer(use_idf=True).fit(X_train_counts)\n",
    "X_train_tfidf = tf_transformer.transform(X_train_counts)\n",
    "X_train_tfidf.shape"
   ]
  },
  {
   "cell_type": "code",
   "execution_count": 11,
   "id": "a5228f36",
   "metadata": {},
   "outputs": [
    {
     "data": {
      "text/plain": [
       "0.8364630811303555"
      ]
     },
     "execution_count": 11,
     "metadata": {},
     "output_type": "execute_result"
    }
   ],
   "source": [
    "clf = MultinomialNB().fit(X_train_tfidf, df['label'])\n",
    "predicted = clf.predict(X_train_tfidf)\n",
    "sum(predicted == df['label'])/len(df)"
   ]
  },
  {
   "cell_type": "code",
   "execution_count": null,
   "id": "ad9a253f",
   "metadata": {},
   "outputs": [],
   "source": []
  }
 ],
 "metadata": {
  "kernelspec": {
   "display_name": "Python 3 (ipykernel)",
   "language": "python",
   "name": "python3"
  },
  "language_info": {
   "codemirror_mode": {
    "name": "ipython",
    "version": 3
   },
   "file_extension": ".py",
   "mimetype": "text/x-python",
   "name": "python",
   "nbconvert_exporter": "python",
   "pygments_lexer": "ipython3",
   "version": "3.8.8"
  }
 },
 "nbformat": 4,
 "nbformat_minor": 5
}
